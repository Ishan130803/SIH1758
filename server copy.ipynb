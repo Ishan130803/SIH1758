{
 "cells": [
  {
   "cell_type": "code",
   "execution_count": 2,
   "metadata": {},
   "outputs": [
    {
     "name": "stdout",
     "output_type": "stream",
     "text": [
      "\u001b[K\u001b[?25hm#################\u001b[0m\u001b[100;90m.\u001b[0m] / reify:yargs-parser: \u001b[32;40mhttp\u001b[0m \u001b[35mfetch\u001b[0m GET 200 https://registry.\u001b[0m\u001b[K\n",
      "added 22 packages in 2s\n",
      "\n",
      "3 packages are looking for funding\n",
      "  run `npm fund` for details\n",
      "\u001b[37;40mnpm\u001b[0m \u001b[0m\u001b[36;40mnotice\u001b[0m\u001b[35m\u001b[0m \n",
      "\u001b[0m\u001b[37;40mnpm\u001b[0m \u001b[0m\u001b[36;40mnotice\u001b[0m\u001b[35m\u001b[0m New \u001b[33mminor\u001b[39m version of npm available! \u001b[31m10.5.0\u001b[39m -> \u001b[32m10.8.3\u001b[39m\n",
      "\u001b[0m\u001b[37;40mnpm\u001b[0m \u001b[0m\u001b[36;40mnotice\u001b[0m\u001b[35m\u001b[0m Changelog: \u001b[36mhttps://github.com/npm/cli/releases/tag/v10.8.3\u001b[39m\n",
      "\u001b[0m\u001b[37;40mnpm\u001b[0m \u001b[0m\u001b[36;40mnotice\u001b[0m\u001b[35m\u001b[0m Run \u001b[32mnpm install -g npm@10.8.3\u001b[39m to update!\n",
      "\u001b[0m\u001b[37;40mnpm\u001b[0m \u001b[0m\u001b[36;40mnotice\u001b[0m\u001b[35m\u001b[0m \n",
      "\u001b[0mCollecting bs4\n",
      "  Downloading bs4-0.0.2-py2.py3-none-any.whl.metadata (411 bytes)\n",
      "Requirement already satisfied: beautifulsoup4 in /opt/conda/lib/python3.10/site-packages (from bs4) (4.12.3)\n",
      "Requirement already satisfied: soupsieve>1.2 in /opt/conda/lib/python3.10/site-packages (from beautifulsoup4->bs4) (2.5)\n",
      "Downloading bs4-0.0.2-py2.py3-none-any.whl (1.2 kB)\n",
      "Installing collected packages: bs4\n",
      "Successfully installed bs4-0.0.2\n",
      "Collecting py_olamaps\n",
      "  Downloading py_olamaps-0.4.0-py3-none-any.whl.metadata (9.8 kB)\n",
      "Collecting retrying<2.0.0,>=1.3.4 (from py_olamaps)\n",
      "  Downloading retrying-1.3.4-py3-none-any.whl.metadata (6.9 kB)\n",
      "Requirement already satisfied: six>=1.7.0 in /opt/conda/lib/python3.10/site-packages (from retrying<2.0.0,>=1.3.4->py_olamaps) (1.16.0)\n",
      "Downloading py_olamaps-0.4.0-py3-none-any.whl (18 kB)\n",
      "Downloading retrying-1.3.4-py3-none-any.whl (11 kB)\n",
      "Installing collected packages: retrying, py_olamaps\n",
      "  Attempting uninstall: retrying\n",
      "    Found existing installation: retrying 1.3.3\n",
      "    Uninstalling retrying-1.3.3:\n",
      "      Successfully uninstalled retrying-1.3.3\n",
      "Successfully installed py_olamaps-0.4.0 retrying-1.3.4\n"
     ]
    }
   ],
   "source": [
    "!npm i -g localtunnel\n",
    "!pip install bs4\n",
    "!pip install py_olamaps\n",
    "!pip install openai\n",
    "!nohup python server_script.py > output.txt 2>&1 & disown; sudo renice -n -20 -p $(pgrep -f server_script.py)"
   ]
  },
  {
   "cell_type": "code",
   "execution_count": 2,
   "metadata": {},
   "outputs": [],
   "source": [
    "from flask import request as flask_request, Flask,jsonify\n",
    "import requests\n",
    "import urllib\n",
    "from requests.structures import CaseInsensitiveDict\n",
    "\n",
    "from pprint import pprint\n",
    "from bs4 import BeautifulSoup\n",
    "import multiprocessing\n",
    "import time\n",
    "from dotenv import load_dotenv\n",
    "import os\n",
    "import threading\n",
    "import pandas as pd\n",
    "import numpy as np\n",
    "import os\n",
    "from py_olamaps.OlaMaps import OlaMaps\n",
    "from openai import OpenAI"
   ]
  },
  {
   "cell_type": "code",
   "execution_count": 38,
   "metadata": {},
   "outputs": [],
   "source": [
    "load_dotenv('env')\n",
    "CLIENT_ID = os.getenv('MAPPLS_CLIENT_ID')\n",
    "CLIENT_SECRET = os.getenv('MAPPLS_CLIENT_SECRET')\n",
    "class DUMMY_MODE:\n",
    "    FLAG=True\n",
    "    DUMMY_IMAGE_URL = \"https://cdn.collectorbazar.com/products/india-postal-envelope-registered-letter-commerially-used-g18657-268009-1.jpg\"\n",
    "    DUMMY_RESPONSE = {\n",
    "        \"parsed_address\": \"Hindustan Lever Ltd., Express Building 1st Floor, Bahadur Shah Zafer Marg, P.O. Box. 7003,, NEW DELHI - 110002\",\n",
    "        \"pincode\": \"110002\",\n",
    "        \"post_address\": None,\n",
    "        \"post_lat\": 28.6284722,\n",
    "        \"post_long\": 77.2445555,\n",
    "        \"receiver_adddress\": \"9,10, Express Building, Bahadur Shah Zafar Marg, Indraprastha Estate, Darya Ganj, Central District, New Delhi, Delhi, 110002\",\n",
    "        \"receiver_lat\": \"28.633115\",\n",
    "        \"receiver_long\": \"77.241392\"\n",
    "}"
   ]
  },
  {
   "cell_type": "code",
   "execution_count": 39,
   "metadata": {},
   "outputs": [],
   "source": [
    "class MMI:\n",
    "    def __init__(self, client_id, client_secret):\n",
    "        self.authorization_header = self.get_authorization_header(client_secret=client_secret,client_id=client_id)\n",
    "        self.client_id = client_id\n",
    "        self.client_secret = client_secret\n",
    "        self.df : pd.DataFrame = pd.read_pickle('pincode.pkl')\n",
    "        self.ola_client = OlaMaps(\n",
    "            api_key=os.environ.get(\"OLA_MAPS_API_KEY\"),\n",
    "        )\n",
    "        self.gpt_client = OpenAI()\n",
    "\n",
    "    def get_geo_coded_data(self,address):\n",
    "        encoded_address = address\n",
    "        \n",
    "        url = f'https://atlas.mappls.com/api/places/geocode?region=ind&address={encoded_address}&itemCount=1&bias=0'\n",
    "        retry_authentication = True\n",
    "        while True:\n",
    "            response = requests.get(url, headers=self.authorization_header)\n",
    "            if response.status_code == 200:\n",
    "                return {\n",
    "                    'status' : 'success',\n",
    "                    'status_code' : response.status_code,\n",
    "                    'response' : response.json()['copResults']\n",
    "                }\n",
    "            elif response.status_code == 204:\n",
    "                return {\n",
    "                    'status' : 'Address not found',\n",
    "                    'status_code' : response.status_code,\n",
    "                    'response' : response\n",
    "                }\n",
    "            elif response.status_code == 401:\n",
    "                if retry_authentication:\n",
    "                    print(\"Retrying and refreshing the token\")\n",
    "                    self.authorization_header = self.get_authorization_header(self.client_id,self.client_secret)\n",
    "                else: \n",
    "                    return {\n",
    "                        'status' : 'Authorization Fail',\n",
    "                        'status_code' : response.status_code,\n",
    "                        'response' : response\n",
    "                    }\n",
    "                    \n",
    "            elif response.status_code >= 400:\n",
    "                return {\n",
    "                    'status' : 'Authorization Fail or Server Error',\n",
    "                    'status_code' : response.status_code,\n",
    "                    'response' : response\n",
    "                }\n",
    "            else:\n",
    "                return {\n",
    "                    'status' : 'Some Other Error',\n",
    "                    'status_code' : response.status_code,\n",
    "                    'response' : response\n",
    "                }\n",
    "            \n",
    "    def get_authorization_key(self,client_id, client_secret):\n",
    "        response = requests.post(\n",
    "            'https://outpost.mappls.com/api/security/oauth/token',\n",
    "            data={\n",
    "                'grant_type':'client_credentials',\n",
    "                'client_id':client_id,\n",
    "                'client_secret':client_secret \n",
    "            }\n",
    "        )\n",
    "        resp_json=response.json()\n",
    "        return f\"{resp_json.get('token_type')} {resp_json.get('access_token')}\"\n",
    "    \n",
    "    def get_authorization_header(self,client_id, client_secret):\n",
    "        return {\n",
    "            'Authorization' : self.get_authorization_key(client_id=client_id,client_secret=client_secret)\n",
    "        }  \n",
    "        \n",
    "    def get_coordinates_from_eLoc(self,eloc):\n",
    "        headers = headers = {\n",
    "            \"Accept\": \"text/html,application/xhtml+xml,application/xml;q=0.9,image/avif,image/webp,image/apng,*/*;q=0.8,application/signed-exchange;v=b3;q=0.7\",\n",
    "            \"Accept-Encoding\": \"gzip, deflate, br, zstd\",\n",
    "            \"Accept-Language\": \"en-US,en;q=0.9\",\n",
    "            \"Cache-Control\": \"max-age=0\",\n",
    "            \"Cookie\": \"_d3=eff5c0e04d082d2886173764eb5c26a3; _d4=eff5c0e04d082d2886173764eb5c26a3; PHPSESSID=c8i2en9qf2cbjv2mijrfuf2qa8; _autologin=aXNoYbmpW4xMzA4MDNfMTcyNTE3NjE4My05NGRhYTcyNDY5OGViMjI3LTEyOC4wLjAuMC1DaHJvbWUtNDQyOWFkZDYzNWZjMWEzODRmODY1MGQwYzFmZmU4NzU%3D\",\n",
    "            \"Priority\": \"u=0, i\",\n",
    "            \"Sec-CH-UA\": '\"Chromium\";v=\"128\", \"Not;A=Brand\";v=\"24\", \"Google Chrome\";v=\"128\"',\n",
    "            \"Sec-CH-UA-Mobile\": \"?1\",\n",
    "            \"Sec-CH-UA-Platform\": '\"Android\"',\n",
    "            \"Sec-Fetch-Dest\": \"document\",\n",
    "            \"Sec-Fetch-Mode\": \"navigate\",\n",
    "            \"Sec-Fetch-Site\": \"none\",\n",
    "            \"Sec-Fetch-User\": \"?1\",\n",
    "            \"Upgrade-Insecure-Requests\": \"1\",\n",
    "            \"User-Agent\": \"Mozilla/5.0 (Linux; Android 6.0; Nexus 5 Build/MRA58N) AppleWebKit/537.36 (KHTML, like Gecko) Chrome/128.0.0.0 Mobile Safari/537.36\"\n",
    "        }\n",
    "        response = requests.get(f'https://www.mappls.com/{eloc}', headers=headers)\n",
    "        if response.ok:\n",
    "            soup = BeautifulSoup(response.content, 'html.parser')\n",
    "            latitude = soup.find('input', {'id': 'lati'})\n",
    "            longitude = soup.find('input', {'id' : 'longi'})\n",
    "            d = {}\n",
    "            if latitude and longitude:\n",
    "                d['long'] = latitude.get('value')\n",
    "                d['lat'] = longitude.get('value')\n",
    "                return d\n",
    "            else:\n",
    "                raise Exception(f\"Unable to retrieve the coordinates status_code : {response.status_code}\")\n",
    "        \n",
    "            return response.json()\n",
    "        else:\n",
    "            raise Exception(\"Response is not ok\")\n",
    "\n",
    "    def get_geo_coded_data_with_coordinates(self,address):\n",
    "        api_response = self.get_geo_coded_data(address=address)\n",
    "        if api_response.get('status') != 'success':\n",
    "            return api_response\n",
    "        \n",
    "        try:\n",
    "            eloc = api_response['response']['eLoc']\n",
    "            coordinate_data = self.get_coordinates_from_eLoc(eloc=eloc)\n",
    "            api_response['response'].update(coordinate_data)\n",
    "            return api_response\n",
    "        except Exception as e:\n",
    "            api_response['status'] = 'failed'\n",
    "            api_response['exception'] = e\n",
    "            return api_response\n",
    "        \n",
    "    def find_nearest_postoffices_distances(self,lat,long,limit = 5):\n",
    "        lat = np.float64(lat)\n",
    "        long = np.float64(long)\n",
    "        target_coord = (lat,long)\n",
    "        distance_2 = (self.df['Latitude'].to_numpy() - target_coord[0])**2 + (self.df['Longitude'].to_numpy() - target_coord[1])**2\n",
    "        ser = pd.Series(np.sqrt(distance_2.astype(np.float64)))\n",
    "        return ser.sort_values().head(limit)\n",
    "        \n",
    "    def get_nearest_postoffice(self,lat,long):\n",
    "        lat = np.float64(lat)\n",
    "        long = np.float64(long)\n",
    "        target_coord = (lat,long)\n",
    "        nearest_distances = self.find_nearest_postoffices_distances(lat,long)\n",
    "        indices = nearest_distances.index.to_numpy()\n",
    "        nearest_coordinates = self.df.loc[indices,['Latitude','Longitude']].to_numpy()\n",
    "        origin = f\"{lat},{long}\"\n",
    "        destinations = []\n",
    "        for coords in nearest_coordinates:\n",
    "            destinations.append(f\"{coords[0]},{coords[1]}\")\n",
    "        destination_query = '|'.join(destinations)\n",
    "        print(origin,destination_query)\n",
    "        distance_matrix = self.ola_client.routing.distance_matrix(\n",
    "            origin,\n",
    "            destination_query\n",
    "        )['rows'][0]['elements']\n",
    "        newdf = pd.DataFrame(distance_matrix).sort_values(by=\"distance\")\n",
    "        ser = newdf.iloc[0]\n",
    "        idx = int(ser.name)    \n",
    "        coords = nearest_coordinates[idx]\n",
    "        print(coords)\n",
    "        data = ser.to_dict()\n",
    "        data['lat'] = float(coords[0])\n",
    "        data['long'] = float(coords[1])\n",
    "        return data\n",
    "    \n",
    "    def get_geocoded_and_destination_coordinates(self, address):\n",
    "        data = self.get_geo_coded_data_with_coordinates(address)\n",
    "        \n",
    "        source_lat = data['response']['long']\n",
    "        source_long = data['response']['lat']\n",
    "        destination_data = self.get_nearest_postoffice(source_lat,source_long)\n",
    "        dest_lat = destination_data['lat']\n",
    "        dest_long = destination_data['long']\n",
    "                \n",
    "        return {\n",
    "            'receiver_lat':source_lat,\n",
    "            'receiver_long':source_long,\n",
    "            'post_lat':dest_lat,\n",
    "            'post_long':dest_long,\n",
    "            'pincode':data.get('response',{}).get('pincode'),\n",
    "            'receiver_adddress' :data.get('response',{}).get('formattedAddress'),\n",
    "            'post_address':None,\n",
    "            'parsed_address':address,\n",
    "        }\n",
    "        \n",
    "    def get_parse_address_from_image(self,url):\n",
    "        response = self.gpt_client.chat.completions.create(\n",
    "            model=\"gpt-4o\",\n",
    "            messages=[\n",
    "                {\n",
    "                    \"role\": \"user\",\n",
    "                    \"content\": [\n",
    "                        {\n",
    "                            \"type\": \"image_url\",\n",
    "                            \"image_url\": {\n",
    "                                \"url\": url,\n",
    "                        }\n",
    "                        },\n",
    "                        {\n",
    "                            \"type\": \"text\",\n",
    "                            \"text\": \"The following image is of a letter , you need accurately identify only the reciever's address and return it to me . Your answer should consist of nothing but the reciever's address. If the address is not the reciever's address simply return not found\"\n",
    "                        }\n",
    "                    ]\n",
    "                }\n",
    "            ],\n",
    "            temperature=1,\n",
    "            max_tokens=256,\n",
    "            top_p=1,\n",
    "            frequency_penalty=0,\n",
    "            presence_penalty=0,\n",
    "            response_format={\n",
    "                \"type\": \"text\"\n",
    "            }\n",
    "        )\n",
    "        a=str(response.choices[0].message.content)\n",
    "        return ', '.join(a.split('\\n'))\n",
    "\n",
    "    def get_parse_image_and_dest_coordinates(self,url):\n",
    "        address = self.get_parse_address_from_image(url)\n",
    "        coordinate_data = self.get_geocoded_and_destination_coordinates(address=address)\n",
    "        return coordinate_data\n",
    "        \n",
    "    "
   ]
  },
  {
   "cell_type": "markdown",
   "metadata": {},
   "source": [
    "# API Endpoints"
   ]
  },
  {
   "cell_type": "code",
   "execution_count": 41,
   "metadata": {},
   "outputs": [],
   "source": [
    "\n",
    "\n",
    "\n",
    "class MMIServer:\n",
    "    def __init__(self, mmi_client_id, mmi_client_secret, app_name = __name__):\n",
    "        self.mmi = MMI(client_id=mmi_client_id, client_secret=mmi_client_secret)\n",
    "        self.app = Flask(app_name)\n",
    "        self.initialize_routes()\n",
    "    \n",
    "    def initialize_routes(self):\n",
    "        @self.app.post('/api/v1/get-geocodes')\n",
    "        def get_geocodes():\n",
    "            address = urllib.parse.unquote(flask_request.args.get('address'))\n",
    "            geocoded_data = self.mmi.get_geo_coded_data_with_coordinates(address=address)\n",
    "            return geocoded_data\n",
    "        @self.app.post('/api/v1/get-coords')\n",
    "        def get_post_office_coords():\n",
    "            address = urllib.parse.unquote(flask_request.args.get('address'))\n",
    "            return jsonify(self.mmi.get_geocoded_and_destination_coordinates(\n",
    "                address\n",
    "            ))\n",
    "        \n",
    "        @self.app.post('/api/v1/parse-image')\n",
    "        def parse_image_from_url():\n",
    "            data = flask_request.get_json()\n",
    "            img_url = data.get('url')\n",
    "            if DUMMY_MODE.FLAG:\n",
    "                return DUMMY_MODE.DUMMY_RESPONSE\n",
    "            if img_url is None:\n",
    "                return jsonify({'message' : 'Image url is None'}), 400\n",
    "            return jsonify(self.mmi.get_parse_image_and_dest_coordinates(img_url))\n",
    "            \n",
    "        \n",
    "            \n",
    "    def get_app(self):\n",
    "        return self.app\n",
    "            \n",
    "        "
   ]
  },
  {
   "cell_type": "markdown",
   "metadata": {},
   "source": [
    "# Server Setup"
   ]
  },
  {
   "cell_type": "code",
   "execution_count": 42,
   "metadata": {},
   "outputs": [],
   "source": [
    "SUBDOMAIN = \"postmitra\"\n",
    "PORT = 8001"
   ]
  },
  {
   "cell_type": "code",
   "execution_count": 43,
   "metadata": {},
   "outputs": [
    {
     "name": "stdout",
     "output_type": "stream",
     "text": [
      "False\n"
     ]
    }
   ],
   "source": [
    "try:\n",
    "    print(TunneledServer.flag == True)\n",
    "    if not TunneledServer.flag:\n",
    "        raise Exception('')\n",
    "except:\n",
    "    class TunneledServer:\n",
    "        flag = False\n",
    "        tunnels = {}\n",
    "        processes = {}\n",
    "        def __init__(self, port, app):\n",
    "            self.tunnel = multiprocessing.Process(target=TunneledServer.start_tunnel, args = (port,))\n",
    "            self.local_server = multiprocessing.Process(target=app.run,kwargs = {'port' : port})\n",
    "            self.port = port\n",
    "        @staticmethod\n",
    "        def start_tunnel(port):\n",
    "            print(f\"Started a Tunnel on port {port}\")\n",
    "            !lt --port {port} --subdomain {SUBDOMAIN}\n",
    "            \n",
    "        def start_self_tunnel(self,force = False):\n",
    "            if self.port in TunneledServer.tunnels:\n",
    "                if force:\n",
    "                    TunneledServer.tunnels[self.port].terminate()\n",
    "                    TunneledServer.tunnels[self.port] = self.tunnel\n",
    "                    self.tunnel.start()\n",
    "                    print(f\"Restated the Tunnel on Port {self.port}\")\n",
    "                else:\n",
    "                    self.tunnel = TunneledServer.tunnels[self.port]\n",
    "                    print(f\"Tunnel Already established on port {self.port}\")\n",
    "            else:\n",
    "                self.tunnels[self.port] = self.tunnel\n",
    "                self.tunnel.start()\n",
    "        def start_local_server(self,force = False):\n",
    "            if self.port in TunneledServer.processes:\n",
    "                if force:\n",
    "                    TunneledServer.processes[self.port].terminate()\n",
    "                    TunneledServer.processes[self.port] = self.local_server\n",
    "                    self.local_server.start()\n",
    "                    print(f\"Restated the Process on Port {self.port}\")\n",
    "                else:\n",
    "                    self.local_server = TunneledServer.processes[self.port]\n",
    "                    print(f\"Process Already Running on port {self.port}\")\n",
    "            else:\n",
    "                self.processes[self.port] = self.local_server\n",
    "                self.local_server.start()\n",
    "                \n",
    "        def start(self,force_tunnel = False, force_process = False):\n",
    "            self.start_self_tunnel(force_tunnel)\n",
    "            self.start_local_server(force_process)\n",
    "            \n",
    "        def terminate_process(self):\n",
    "            self.local_server.terminate()\n",
    "            TunneledServer.processes.pop(self.port)\n",
    "            print(f\"Terminated Server Running on port {self.port}\")\n",
    "            \n",
    "        def terminate_tunnel(self):\n",
    "            self.tunnel.terminate()\n",
    "            TunneledServer.tunnels.pop(self.port)\n",
    "            print(f\"Terminated Tunnel Established on port {self.port}\")\n",
    "            \n",
    "        def terminate(self):\n",
    "            self.terminate_process()\n",
    "            self.terminate_tunnel()"
   ]
  },
  {
   "cell_type": "code",
   "execution_count": 44,
   "metadata": {},
   "outputs": [],
   "source": [
    "mmiServer = MMIServer(CLIENT_ID, CLIENT_SECRET)\n",
    "app = mmiServer.get_app()"
   ]
  },
  {
   "cell_type": "code",
   "execution_count": 45,
   "metadata": {},
   "outputs": [
    {
     "name": "stdout",
     "output_type": "stream",
     "text": [
      "Max tunnel password 34.141.172.126\n"
     ]
    }
   ],
   "source": [
    "\n",
    "url = 'https://loca.lt/mytunnelpassword'\n",
    "response = requests.get(url)\n",
    "\n",
    "# Check if the request was successful\n",
    "for i in range(3):\n",
    "    if response.status_code == 200:\n",
    "        # Get the content of the response\n",
    "        content = response.text\n",
    "        print(f'Max tunnel password {content}')\n",
    "        break\n",
    "    else:\n",
    "        print(f\"Failed to retrieve the content Retrying after two seconds. Status code: {response.status_code}\")\n",
    "        time.sleep(10)\n",
    "else:\n",
    "    raise Exception(\"Unable to fetch the tunnel password\")"
   ]
  },
  {
   "cell_type": "code",
   "execution_count": 46,
   "metadata": {},
   "outputs": [],
   "source": [
    "web_server = TunneledServer(app=app, port=PORT)"
   ]
  },
  {
   "cell_type": "code",
   "execution_count": null,
   "metadata": {},
   "outputs": [
    {
     "name": "stdout",
     "output_type": "stream",
     "text": [
      "Started a Tunnel on port 8001\n",
      " * Serving Flask app '__main__'\n"
     ]
    },
    {
     "name": "stdout",
     "output_type": "stream",
     "text": [
      " * Debug mode: off\n"
     ]
    },
    {
     "name": "stdout",
     "output_type": "stream",
     "text": [
      "your url is: https://postmitra.loca.lt\n"
     ]
    }
   ],
   "source": [
    "web_server.start()"
   ]
  },
  {
   "cell_type": "code",
   "execution_count": 48,
   "metadata": {},
   "outputs": [
    {
     "name": "stdout",
     "output_type": "stream",
     "text": [
      "Terminated Server Running on port 8001\n",
      "Terminated Tunnel Established on port 8001\n"
     ]
    }
   ],
   "source": [
    "web_server.terminate()"
   ]
  },
  {
   "cell_type": "code",
   "execution_count": 49,
   "metadata": {},
   "outputs": [],
   "source": [
    "import subprocess"
   ]
  },
  {
   "cell_type": "code",
   "execution_count": 50,
   "metadata": {},
   "outputs": [],
   "source": []
  },
  {
   "cell_type": "code",
   "execution_count": 52,
   "metadata": {},
   "outputs": [],
   "source": [
    "process.terminate()"
   ]
  },
  {
   "cell_type": "code",
   "execution_count": 53,
   "metadata": {},
   "outputs": [
    {
     "data": {
      "text/plain": [
       "(b'your url is: https://postmitra.loca.lt\\n', b'')"
      ]
     },
     "execution_count": 53,
     "metadata": {},
     "output_type": "execute_result"
    }
   ],
   "source": [
    "process.communicate()"
   ]
  },
  {
   "cell_type": "code",
   "execution_count": null,
   "metadata": {},
   "outputs": [],
   "source": []
  }
 ],
 "metadata": {
  "kernelspec": {
   "display_name": "Python 3",
   "language": "python",
   "name": "python3"
  },
  "language_info": {
   "codemirror_mode": {
    "name": "ipython",
    "version": 3
   },
   "file_extension": ".py",
   "mimetype": "text/x-python",
   "name": "python",
   "nbconvert_exporter": "python",
   "pygments_lexer": "ipython3",
   "version": "3.10.14"
  }
 },
 "nbformat": 4,
 "nbformat_minor": 2
}
