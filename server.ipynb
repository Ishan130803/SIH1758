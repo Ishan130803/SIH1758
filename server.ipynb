{
 "cells": [
  {
   "cell_type": "code",
   "execution_count": 1,
   "metadata": {},
   "outputs": [
    {
     "name": "stdout",
     "output_type": "stream",
     "text": [
      "\u001b[K\u001b[?25hm#################\u001b[0m\u001b[100;90m.\u001b[0m] / reify:yargs-parser: \u001b[32;40mhttp\u001b[0m \u001b[35mfetch\u001b[0m GET 200 https://registry.\u001b[0m\u001b[K\n",
      "added 22 packages in 3s\n",
      "\n",
      "3 packages are looking for funding\n",
      "  run `npm fund` for details\n",
      "\u001b[37;40mnpm\u001b[0m \u001b[0m\u001b[36;40mnotice\u001b[0m\u001b[35m\u001b[0m \n",
      "\u001b[0m\u001b[37;40mnpm\u001b[0m \u001b[0m\u001b[36;40mnotice\u001b[0m\u001b[35m\u001b[0m New \u001b[33mminor\u001b[39m version of npm available! \u001b[31m10.5.0\u001b[39m -> \u001b[32m10.8.3\u001b[39m\n",
      "\u001b[0m\u001b[37;40mnpm\u001b[0m \u001b[0m\u001b[36;40mnotice\u001b[0m\u001b[35m\u001b[0m Changelog: \u001b[36mhttps://github.com/npm/cli/releases/tag/v10.8.3\u001b[39m\n",
      "\u001b[0m\u001b[37;40mnpm\u001b[0m \u001b[0m\u001b[36;40mnotice\u001b[0m\u001b[35m\u001b[0m Run \u001b[32mnpm install -g npm@10.8.3\u001b[39m to update!\n",
      "\u001b[0m\u001b[37;40mnpm\u001b[0m \u001b[0m\u001b[36;40mnotice\u001b[0m\u001b[35m\u001b[0m \n",
      "\u001b[0mCollecting bs4\n",
      "  Downloading bs4-0.0.2-py2.py3-none-any.whl.metadata (411 bytes)\n",
      "Requirement already satisfied: beautifulsoup4 in /opt/conda/lib/python3.10/site-packages (from bs4) (4.12.3)\n",
      "Requirement already satisfied: soupsieve>1.2 in /opt/conda/lib/python3.10/site-packages (from beautifulsoup4->bs4) (2.5)\n",
      "Downloading bs4-0.0.2-py2.py3-none-any.whl (1.2 kB)\n",
      "Installing collected packages: bs4\n",
      "Successfully installed bs4-0.0.2\n"
     ]
    }
   ],
   "source": [
    "!npm i -g localtunnel\n",
    "!pip install bs4"
   ]
  },
  {
   "cell_type": "code",
   "execution_count": 4,
   "metadata": {},
   "outputs": [],
   "source": [
    "from flask import request as flask_request, Flask\n",
    "import requests\n",
    "import urllib\n",
    "from requests.structures import CaseInsensitiveDict\n",
    "\n",
    "from pprint import pprint\n",
    "from bs4 import BeautifulSoup\n",
    "import multiprocessing\n",
    "import time\n",
    "from dotenv import load_dotenv\n",
    "import os\n",
    "from pathos.multiprocessing import ProcessPool"
   ]
  },
  {
   "cell_type": "code",
   "execution_count": 5,
   "metadata": {},
   "outputs": [],
   "source": [
    "load_dotenv('.env')\n",
    "CLIENT_ID = os.getenv('MAPPLS_CLIENT_ID')\n",
    "CLIENT_SECRET = os.getenv('MAPPLS_CLIENT_SECRET')"
   ]
  },
  {
   "cell_type": "code",
   "execution_count": 6,
   "metadata": {},
   "outputs": [],
   "source": [
    "class MMI:\n",
    "    def __init__(self, client_id, client_secret):\n",
    "        self.authorization_header = self.get_authorization_header(client_secret=client_secret,client_id=client_id)\n",
    "        self.client_id = client_id\n",
    "        self.client_secret = client_secret\n",
    "\n",
    "    def get_geo_coded_data(self,address):\n",
    "        encoded_address = urllib.parse.quote(address)\n",
    "        \n",
    "        url = f'https://atlas.mappls.com/api/places/geocode?region=ind&address={encoded_address}&itemCount=1&bias=0'\n",
    "        retry_authentication = True\n",
    "        while True:\n",
    "            response = requests.get(url, headers=self.authorization_header)\n",
    "            if response.status_code == 200:\n",
    "                return {\n",
    "                    'status' : 'success',\n",
    "                    'status_code' : response.status_code,\n",
    "                    'response' : response.json()['copResults']\n",
    "                }\n",
    "            elif response.status_code == 204:\n",
    "                return {\n",
    "                    'status' : 'Address not found',\n",
    "                    'status_code' : response.status_code,\n",
    "                    'response' : response\n",
    "                }\n",
    "            elif response.status_code == 401:\n",
    "                if retry_authentication:\n",
    "                    print(\"Retrying and refreshing the token\")\n",
    "                    self.authorization_header = self.get_authorization_header(self.client_id,self.client_secret)\n",
    "                else: \n",
    "                    return {\n",
    "                        'status' : 'Authorization Fail',\n",
    "                        'status_code' : response.status_code,\n",
    "                        'response' : response\n",
    "                    }\n",
    "                    \n",
    "            elif response.status_code >= 400:\n",
    "                return {\n",
    "                    'status' : 'Authorization Fail or Server Error',\n",
    "                    'status_code' : response.status_code,\n",
    "                    'response' : response\n",
    "                }\n",
    "            else:\n",
    "                return {\n",
    "                    'status' : 'Some Other Error',\n",
    "                    'status_code' : response.status_code,\n",
    "                    'response' : response\n",
    "                }\n",
    "            \n",
    "    def get_authorization_key(self,client_id, client_secret):\n",
    "        response = requests.post(\n",
    "            'https://outpost.mappls.com/api/security/oauth/token',\n",
    "            data={\n",
    "                'grant_type':'client_credentials',\n",
    "                'client_id':client_id,\n",
    "                'client_secret':client_secret \n",
    "            }\n",
    "        )\n",
    "        resp_json=response.json()\n",
    "        return f\"{resp_json.get('token_type')} {resp_json.get('access_token')}\"\n",
    "    \n",
    "    def get_authorization_header(self,client_id, client_secret):\n",
    "        return {\n",
    "            'Authorization' : self.get_authorization_key(client_id=client_id,client_secret=client_secret)\n",
    "        }  \n",
    "        \n",
    "    def get_coordinates_from_eLoc(self,eloc):\n",
    "        headers = headers = {\n",
    "            \"Accept\": \"text/html,application/xhtml+xml,application/xml;q=0.9,image/avif,image/webp,image/apng,*/*;q=0.8,application/signed-exchange;v=b3;q=0.7\",\n",
    "            \"Accept-Encoding\": \"gzip, deflate, br, zstd\",\n",
    "            \"Accept-Language\": \"en-US,en;q=0.9\",\n",
    "            \"Cache-Control\": \"max-age=0\",\n",
    "            \"Cookie\": \"_d3=eff5c0e04d082d2886173764eb5c26a3; _d4=eff5c0e04d082d2886173764eb5c26a3; PHPSESSID=c8i2en9qf2cbjv2mijrfuf2qa8; _autologin=aXNoYbmpW4xMzA4MDNfMTcyNTE3NjE4My05NGRhYTcyNDY5OGViMjI3LTEyOC4wLjAuMC1DaHJvbWUtNDQyOWFkZDYzNWZjMWEzODRmODY1MGQwYzFmZmU4NzU%3D\",\n",
    "            \"Priority\": \"u=0, i\",\n",
    "            \"Sec-CH-UA\": '\"Chromium\";v=\"128\", \"Not;A=Brand\";v=\"24\", \"Google Chrome\";v=\"128\"',\n",
    "            \"Sec-CH-UA-Mobile\": \"?1\",\n",
    "            \"Sec-CH-UA-Platform\": '\"Android\"',\n",
    "            \"Sec-Fetch-Dest\": \"document\",\n",
    "            \"Sec-Fetch-Mode\": \"navigate\",\n",
    "            \"Sec-Fetch-Site\": \"none\",\n",
    "            \"Sec-Fetch-User\": \"?1\",\n",
    "            \"Upgrade-Insecure-Requests\": \"1\",\n",
    "            \"User-Agent\": \"Mozilla/5.0 (Linux; Android 6.0; Nexus 5 Build/MRA58N) AppleWebKit/537.36 (KHTML, like Gecko) Chrome/128.0.0.0 Mobile Safari/537.36\"\n",
    "        }\n",
    "        response = requests.get(f'https://www.mappls.com/{eloc}', headers=headers)\n",
    "        if response.ok:\n",
    "            soup = BeautifulSoup(response.content, 'html.parser')\n",
    "            latitude = soup.find('input', {'id': 'lati'})\n",
    "            longitude = soup.find('input', {'id' : 'longi'})\n",
    "            d = {}\n",
    "            if latitude and longitude:\n",
    "                d['long'] = latitude.get('value')\n",
    "                d['lat'] = longitude.get('value')\n",
    "                return d\n",
    "            else:\n",
    "                raise Exception(f\"Unable to retrieve the coordinates status_code : {response.status_code}\")\n",
    "        \n",
    "            return response.json()\n",
    "        else:\n",
    "            raise Exception(\"Response is not ok\")\n",
    "\n",
    "    def get_geo_coded_data_with_coordinates(self,address):\n",
    "        api_response = self.get_geo_coded_data(address=address)\n",
    "        if api_response.get('status') != 'success':\n",
    "            return api_response\n",
    "        \n",
    "        try:\n",
    "            eloc = api_response['response']['eLoc']\n",
    "            coordinate_data = self.get_coordinates_from_eLoc(eloc=eloc)\n",
    "            api_response['response'].update(coordinate_data)\n",
    "            return api_response\n",
    "        except Exception as e:\n",
    "            api_response['status'] = 'failed'\n",
    "            api_response['exception'] = e\n",
    "            return api_response"
   ]
  },
  {
   "cell_type": "markdown",
   "metadata": {},
   "source": [
    "# Server Setup"
   ]
  },
  {
   "cell_type": "code",
   "execution_count": 7,
   "metadata": {},
   "outputs": [],
   "source": [
    "SUBDOMAIN = \"postmitra\"\n",
    "PORT = 8001"
   ]
  },
  {
   "cell_type": "code",
   "execution_count": 8,
   "metadata": {},
   "outputs": [],
   "source": [
    "try:\n",
    "    print(TunneledServer.flag == True)\n",
    "    if not TunneledServer.flag:\n",
    "        raise Exception('')\n",
    "except:\n",
    "    class TunneledServer:\n",
    "        flag = False\n",
    "        tunnels = {}\n",
    "        processes = {}\n",
    "        def __init__(self, port, app):\n",
    "            self.tunnel = multiprocessing.Process(target=TunneledServer.start_tunnel, args = (port,))\n",
    "            self.local_server = multiprocessing.Process(target=app.run,kwargs = {'port' : port})\n",
    "            self.port = port\n",
    "        @staticmethod\n",
    "        def start_tunnel(port):\n",
    "            print(f\"Started a Tunnel on port {port}\")\n",
    "            !lt --port {port} --subdomain {SUBDOMAIN}\n",
    "            \n",
    "        def start_self_tunnel(self,force = False):\n",
    "            if self.port in TunneledServer.tunnels:\n",
    "                if force:\n",
    "                    TunneledServer.tunnels[self.port].terminate()\n",
    "                    TunneledServer.tunnels[self.port] = self.tunnel\n",
    "                    self.tunnel.start()\n",
    "                    print(f\"Restated the Tunnel on Port {self.port}\")\n",
    "                else:\n",
    "                    self.tunnel = TunneledServer.tunnels[self.port]\n",
    "                    print(f\"Tunnel Already established on port {self.port}\")\n",
    "            else:\n",
    "                self.tunnels[self.port] = self.tunnel\n",
    "                self.tunnel.start()\n",
    "        def start_local_server(self,force = False):\n",
    "            if self.port in TunneledServer.processes:\n",
    "                if force:\n",
    "                    TunneledServer.processes[self.port].terminate()\n",
    "                    TunneledServer.processes[self.port] = self.local_server\n",
    "                    self.local_server.start()\n",
    "                    print(f\"Restated the Process on Port {self.port}\")\n",
    "                else:\n",
    "                    self.local_server = TunneledServer.processes[self.port]\n",
    "                    print(f\"Process Already Running on port {self.port}\")\n",
    "            else:\n",
    "                self.processes[self.port] = self.local_server\n",
    "                self.local_server.start()\n",
    "                \n",
    "        def start(self,force_tunnel = False, force_process = False):\n",
    "            self.start_self_tunnel(force_tunnel)\n",
    "            self.start_local_server(force_process)\n",
    "            \n",
    "        def terminate_process(self):\n",
    "            self.local_server.terminate()\n",
    "            TunneledServer.processes.pop(self.port)\n",
    "            print(f\"Terminated Server Running on port {self.port}\")\n",
    "            \n",
    "        def terminate_tunnel(self):\n",
    "            self.tunnel.terminate()\n",
    "            TunneledServer.tunnels.pop(self.port)\n",
    "            print(f\"Terminated Tunnel Established on port {self.port}\")\n",
    "            \n",
    "        def terminate(self):\n",
    "            self.terminate_process()\n",
    "            self.terminate_tunnel()"
   ]
  },
  {
   "cell_type": "code",
   "execution_count": 25,
   "metadata": {},
   "outputs": [],
   "source": [
    "\n",
    "import urllib.parse\n",
    "\n",
    "\n",
    "class MMIServer:\n",
    "    def __init__(self, mmi_client_id, mmi_client_secret, app_name = __name__):\n",
    "        self.mmi = MMI(client_id=mmi_client_id, client_secret=mmi_client_secret)\n",
    "        self.app = Flask(app_name)\n",
    "        self.initialize_routes()\n",
    "    \n",
    "    def initialize_routes(self):\n",
    "        @self.app.route('/api/v1/get-geocodes')\n",
    "        def get_geocodes():\n",
    "            address = urllib.parse.unquote(flask_request.args.get('address'))\n",
    "            geocoded_data = self.mmi.get_geo_coded_data_with_coordinates(address=address)\n",
    "            return geocoded_data\n",
    "        @self.app.route('/')\n",
    "        def status():\n",
    "            return \"OK\"\n",
    "    \n",
    "    def get_app(self):\n",
    "        return self.app\n",
    "            \n",
    "        "
   ]
  },
  {
   "cell_type": "code",
   "execution_count": 26,
   "metadata": {},
   "outputs": [],
   "source": [
    "mmiServer = MMIServer(CLIENT_ID, CLIENT_SECRET)\n",
    "app = mmiServer.get_app()"
   ]
  },
  {
   "cell_type": "code",
   "execution_count": 27,
   "metadata": {},
   "outputs": [
    {
     "name": "stdout",
     "output_type": "stream",
     "text": [
      "Max tunnel password 34.81.218.195\n"
     ]
    }
   ],
   "source": [
    "\n",
    "url = 'https://loca.lt/mytunnelpassword'\n",
    "response = requests.get(url)\n",
    "\n",
    "# Check if the request was successful\n",
    "for i in range(3):\n",
    "    if response.status_code == 200:\n",
    "        # Get the content of the response\n",
    "        content = response.text\n",
    "        print(f'Max tunnel password {content}')\n",
    "        break\n",
    "    else:\n",
    "        print(f\"Failed to retrieve the content Retrying after two seconds. Status code: {response.status_code}\")\n",
    "        time.sleep(10)\n",
    "else:\n",
    "    raise Exception(\"Unable to fetch the tunnel password\")"
   ]
  },
  {
   "cell_type": "code",
   "execution_count": 32,
   "metadata": {},
   "outputs": [],
   "source": [
    "web_server = TunneledServer(app=app, port=PORT)"
   ]
  },
  {
   "cell_type": "code",
   "execution_count": null,
   "metadata": {},
   "outputs": [
    {
     "name": "stdout",
     "output_type": "stream",
     "text": [
      "Started a Tunnel on port 8001\n",
      " * Serving Flask app '__main__'\n"
     ]
    },
    {
     "name": "stdout",
     "output_type": "stream",
     "text": [
      " * Debug mode: off\n"
     ]
    },
    {
     "name": "stdout",
     "output_type": "stream",
     "text": [
      "your url is: https://postmitra.loca.lt\n"
     ]
    }
   ],
   "source": [
    "web_server.start(force_process=True)"
   ]
  },
  {
   "cell_type": "code",
   "execution_count": 1,
   "metadata": {},
   "outputs": [
    {
     "ename": "NameError",
     "evalue": "name 'web_server' is not defined",
     "output_type": "error",
     "traceback": [
      "\u001b[0;31m---------------------------------------------------------------------------\u001b[0m",
      "\u001b[0;31mNameError\u001b[0m                                 Traceback (most recent call last)",
      "Cell \u001b[0;32mIn[1], line 1\u001b[0m\n\u001b[0;32m----> 1\u001b[0m \u001b[43mweb_server\u001b[49m\u001b[38;5;241m.\u001b[39mterminate()\n",
      "\u001b[0;31mNameError\u001b[0m: name 'web_server' is not defined"
     ]
    }
   ],
   "source": [
    "web_server.terminate()"
   ]
  },
  {
   "cell_type": "code",
   "execution_count": null,
   "metadata": {},
   "outputs": [],
   "source": []
  }
 ],
 "metadata": {
  "kernelspec": {
   "display_name": "Python 3",
   "language": "python",
   "name": "python3"
  },
  "language_info": {
   "codemirror_mode": {
    "name": "ipython",
    "version": 3
   },
   "file_extension": ".py",
   "mimetype": "text/x-python",
   "name": "python",
   "nbconvert_exporter": "python",
   "pygments_lexer": "ipython3",
   "version": "3.10.14"
  }
 },
 "nbformat": 4,
 "nbformat_minor": 2
}
